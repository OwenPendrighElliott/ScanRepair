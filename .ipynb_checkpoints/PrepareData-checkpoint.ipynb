{
 "cells": [
  {
   "cell_type": "code",
   "execution_count": 49,
   "metadata": {},
   "outputs": [],
   "source": [
    "import matplotlib.pyplot as plt\n",
    "import numpy as np\n",
    "from PIL import Image, ImageDraw, ImageEnhance, ImageOps, ImageFilter\n",
    "import random\n",
    "import os\n",
    "from tqdm import tqdm"
   ]
  },
  {
   "cell_type": "code",
   "execution_count": 52,
   "metadata": {},
   "outputs": [],
   "source": [
    "def random_crop(img, size, crops, enforce_content=True):\n",
    "    ims = []\n",
    "    \n",
    "    w, h = img.size\n",
    "    \n",
    "    if w>2*size and h>2*size:\n",
    "        start = size\n",
    "    else:\n",
    "        start = 0\n",
    "    \n",
    "    wstarts = list(range(start, w-size))\n",
    "    hstarts = list(range(start, h-size))\n",
    "    \n",
    "    for i in range(crops):\n",
    "        ws = random.choice(wstarts)\n",
    "        hs = random.choice(hstarts)\n",
    "        we = ws+size\n",
    "        he = hs+size\n",
    "    \n",
    "        crp = img.crop((ws, hs, we, he)) \n",
    "        \n",
    "        is_blank = False\n",
    "        if crp.convert(\"L\").getextrema() == (0, 0) or crp.convert(\"L\").getextrema() == (255, 255):\n",
    "            is_blank = True\n",
    "        if enforce_content:\n",
    "            while is_blank:\n",
    "                ws = random.choice(wstarts)\n",
    "                hs = random.choice(hstarts)\n",
    "                we = ws+size\n",
    "                he = hs+size\n",
    "                crp = img.crop((ws, hs, we, he)) \n",
    "                is_blank = False\n",
    "                if crp.convert(\"L\").getextrema() == (0, 0) or crp.convert(\"L\").getextrema() == (255, 255):\n",
    "                    is_blank = True\n",
    "\n",
    "                \n",
    "        ims.append(crp)\n",
    "    return ims\n",
    "\n",
    "def blemish(img):\n",
    "    img_in = img.copy()\n",
    "    img_arr = np.asarray(img_in)\n",
    "    points = random.choice(list(range(5, 20)))\n",
    "    \n",
    "    sizes = list(range(1,6))\n",
    "    coords = [(random.choice(range(img_arr.shape[1]-2*max(sizes))), random.choice(range(img_arr.shape[0]-2*max(sizes)))) for _ in range(points)]\n",
    "    \n",
    "    draw = ImageDraw.Draw(img_in) \n",
    "    for x, y in coords:\n",
    "        size = random.choice(sizes)\n",
    "        draw.ellipse([x-size, y-size, x+size, y+size], fill=0, outline=0,width=1)\n",
    "    \n",
    "    return img_in\n",
    "\n",
    "def noise(img, factor=0.1):\n",
    "    img_arr = np.asarray(img)\n",
    "    noise = np.random.rand(*img_arr.shape)\n",
    "    noise = img_arr * noise * factor\n",
    "    img_arr = img_arr - noise\n",
    "    img_out = Image.fromarray(np.uint8(img_arr.clip(min=0)))\n",
    "    return img_out\n",
    "\n",
    "def grey_patching(img, by=20):\n",
    "    img_arr = np.asarray(img).copy()\n",
    "    random_reduction = np.random.randint(by, size=img_arr.shape[:2])\n",
    "    random_reduction = np.dstack((random_reduction,random_reduction,random_reduction))\n",
    "    img_arr = img_arr - random_reduction           \n",
    "    img_out = Image.fromarray(np.uint8(img_arr.clip(min=0)))\n",
    "    return img_out\n",
    "\n",
    "def blend(img, dirty_masks='data/damage_examples'):\n",
    "    mask = random.choice(os.listdir(dirty_masks))\n",
    "    mask_img = Image.open(dirty_masks+\"/\"+mask).convert('RGB')\n",
    "    mask_img = random_crop(mask_img, min(img.size), 1)[0]\n",
    "    rand = random.random() \n",
    "    if rand < 0.5:\n",
    "        mask_img = mask_img.rotate(180)\n",
    "        \n",
    "    rand = random.random() \n",
    "    if rand < 0.5:\n",
    "        mask_img = mask_img.transpose(Image.FLIP_LEFT_RIGHT)\n",
    "    else:\n",
    "        mask_img = mask_img.transpose(Image.FLIP_TOP_BOTTOM)\n",
    "    \n",
    "    \n",
    "    mask_arr = np.asarray(mask_img, dtype=np.float32)\n",
    "    img_arr = np.asarray(img, dtype=np.float32)\n",
    "\n",
    "    comb = (img_arr+mask_arr)/2\n",
    "        \n",
    "    img_out = Image.fromarray(np.uint8(comb.clip(min=0, max=255)))\n",
    "    img_out = ImageEnhance.Contrast(img_out).enhance(2)\n",
    "    return img_out\n",
    "\n",
    "def blur_image(img):\n",
    "    imgout = img.filter(ImageFilter.GaussianBlur(radius=3)) \n",
    "    return imgout\n",
    "\n",
    "modifications = [[blend, blemish],\n",
    "                 [blend, blemish],\n",
    "                 [blend, noise],\n",
    "                 [blend, grey_patching],\n",
    "                 [blend, blur_image],\n",
    "                 [blur_image],\n",
    "                 [blemish],\n",
    "                 [blend],\n",
    "                 [blend]]"
   ]
  },
  {
   "cell_type": "code",
   "execution_count": 53,
   "metadata": {
    "scrolled": false
   },
   "outputs": [
    {
     "name": "stderr",
     "output_type": "stream",
     "text": [
      "\r",
      "  0%|                                                                                            | 0/5 [00:00<?, ?it/s]"
     ]
    },
    {
     "name": "stdout",
     "output_type": "stream",
     "text": [
      "0\n",
      "(0, 255)\n",
      "1\n",
      "(0, 255)\n",
      "2\n",
      "(0, 255)\n",
      "3\n"
     ]
    },
    {
     "name": "stderr",
     "output_type": "stream",
     "text": [
      "\r",
      " 20%|████████████████▊                                                                   | 1/5 [00:00<00:01,  2.75it/s]"
     ]
    },
    {
     "name": "stdout",
     "output_type": "stream",
     "text": [
      "(0, 255)\n",
      "4\n",
      "(0, 255)\n",
      "5\n",
      "(0, 255)\n"
     ]
    },
    {
     "name": "stderr",
     "output_type": "stream",
     "text": [
      " 20%|████████████████▊                                                                   | 1/5 [00:07<00:29,  7.31s/it]\n"
     ]
    },
    {
     "ename": "KeyboardInterrupt",
     "evalue": "",
     "output_type": "error",
     "traceback": [
      "\u001b[1;31m---------------------------------------------------------------------------\u001b[0m",
      "\u001b[1;31mKeyboardInterrupt\u001b[0m                         Traceback (most recent call last)",
      "\u001b[1;32m<ipython-input-53-a0bc3b13dcb1>\u001b[0m in \u001b[0;36m<module>\u001b[1;34m\u001b[0m\n\u001b[0;32m     19\u001b[0m         \u001b[0mdamage\u001b[0m \u001b[1;33m=\u001b[0m \u001b[0mimg\u001b[0m\u001b[1;33m.\u001b[0m\u001b[0mcopy\u001b[0m\u001b[1;33m(\u001b[0m\u001b[1;33m)\u001b[0m\u001b[1;33m\u001b[0m\u001b[1;33m\u001b[0m\u001b[0m\n\u001b[0;32m     20\u001b[0m         \u001b[1;32mfor\u001b[0m \u001b[0mmod\u001b[0m \u001b[1;32min\u001b[0m \u001b[0mmods\u001b[0m\u001b[1;33m:\u001b[0m\u001b[1;33m\u001b[0m\u001b[1;33m\u001b[0m\u001b[0m\n\u001b[1;32m---> 21\u001b[1;33m             \u001b[0mdamage\u001b[0m \u001b[1;33m=\u001b[0m \u001b[0mmod\u001b[0m\u001b[1;33m(\u001b[0m\u001b[0mdamage\u001b[0m\u001b[1;33m)\u001b[0m\u001b[1;33m\u001b[0m\u001b[1;33m\u001b[0m\u001b[0m\n\u001b[0m\u001b[0;32m     22\u001b[0m \u001b[1;33m\u001b[0m\u001b[0m\n\u001b[0;32m     23\u001b[0m         \u001b[0mdamage\u001b[0m\u001b[1;33m.\u001b[0m\u001b[0msave\u001b[0m\u001b[1;33m(\u001b[0m\u001b[0mdamaged_dir\u001b[0m \u001b[1;33m+\u001b[0m \u001b[1;34mf'{imno}_dmg.png'\u001b[0m\u001b[1;33m,\u001b[0m \u001b[1;34m\"PNG\"\u001b[0m\u001b[1;33m)\u001b[0m\u001b[1;33m\u001b[0m\u001b[1;33m\u001b[0m\u001b[0m\n",
      "\u001b[1;32m<ipython-input-52-a5e79e4c0039>\u001b[0m in \u001b[0;36mblend\u001b[1;34m(img, dirty_masks)\u001b[0m\n\u001b[0;32m     65\u001b[0m     \u001b[0mmask\u001b[0m \u001b[1;33m=\u001b[0m \u001b[0mrandom\u001b[0m\u001b[1;33m.\u001b[0m\u001b[0mchoice\u001b[0m\u001b[1;33m(\u001b[0m\u001b[0mos\u001b[0m\u001b[1;33m.\u001b[0m\u001b[0mlistdir\u001b[0m\u001b[1;33m(\u001b[0m\u001b[0mdirty_masks\u001b[0m\u001b[1;33m)\u001b[0m\u001b[1;33m)\u001b[0m\u001b[1;33m\u001b[0m\u001b[1;33m\u001b[0m\u001b[0m\n\u001b[0;32m     66\u001b[0m     \u001b[0mmask_img\u001b[0m \u001b[1;33m=\u001b[0m \u001b[0mImage\u001b[0m\u001b[1;33m.\u001b[0m\u001b[0mopen\u001b[0m\u001b[1;33m(\u001b[0m\u001b[0mdirty_masks\u001b[0m\u001b[1;33m+\u001b[0m\u001b[1;34m\"/\"\u001b[0m\u001b[1;33m+\u001b[0m\u001b[0mmask\u001b[0m\u001b[1;33m)\u001b[0m\u001b[1;33m.\u001b[0m\u001b[0mconvert\u001b[0m\u001b[1;33m(\u001b[0m\u001b[1;34m'RGB'\u001b[0m\u001b[1;33m)\u001b[0m\u001b[1;33m\u001b[0m\u001b[1;33m\u001b[0m\u001b[0m\n\u001b[1;32m---> 67\u001b[1;33m     \u001b[0mmask_img\u001b[0m \u001b[1;33m=\u001b[0m \u001b[0mrandom_crop\u001b[0m\u001b[1;33m(\u001b[0m\u001b[0mmask_img\u001b[0m\u001b[1;33m,\u001b[0m \u001b[0mmin\u001b[0m\u001b[1;33m(\u001b[0m\u001b[0mimg\u001b[0m\u001b[1;33m.\u001b[0m\u001b[0msize\u001b[0m\u001b[1;33m)\u001b[0m\u001b[1;33m,\u001b[0m \u001b[1;36m1\u001b[0m\u001b[1;33m)\u001b[0m\u001b[1;33m[\u001b[0m\u001b[1;36m0\u001b[0m\u001b[1;33m]\u001b[0m\u001b[1;33m\u001b[0m\u001b[1;33m\u001b[0m\u001b[0m\n\u001b[0m\u001b[0;32m     68\u001b[0m     \u001b[0mrand\u001b[0m \u001b[1;33m=\u001b[0m \u001b[0mrandom\u001b[0m\u001b[1;33m.\u001b[0m\u001b[0mrandom\u001b[0m\u001b[1;33m(\u001b[0m\u001b[1;33m)\u001b[0m\u001b[1;33m\u001b[0m\u001b[1;33m\u001b[0m\u001b[0m\n\u001b[0;32m     69\u001b[0m     \u001b[1;32mif\u001b[0m \u001b[0mrand\u001b[0m \u001b[1;33m<\u001b[0m \u001b[1;36m0.5\u001b[0m\u001b[1;33m:\u001b[0m\u001b[1;33m\u001b[0m\u001b[1;33m\u001b[0m\u001b[0m\n",
      "\u001b[1;32m<ipython-input-52-a5e79e4c0039>\u001b[0m in \u001b[0;36mrandom_crop\u001b[1;34m(img, size, crops, enforce_content)\u001b[0m\n\u001b[0;32m     26\u001b[0m                 \u001b[0mwe\u001b[0m \u001b[1;33m=\u001b[0m \u001b[0mws\u001b[0m\u001b[1;33m+\u001b[0m\u001b[0msize\u001b[0m\u001b[1;33m\u001b[0m\u001b[1;33m\u001b[0m\u001b[0m\n\u001b[0;32m     27\u001b[0m                 \u001b[0mhe\u001b[0m \u001b[1;33m=\u001b[0m \u001b[0mhs\u001b[0m\u001b[1;33m+\u001b[0m\u001b[0msize\u001b[0m\u001b[1;33m\u001b[0m\u001b[1;33m\u001b[0m\u001b[0m\n\u001b[1;32m---> 28\u001b[1;33m                 \u001b[0mcrp\u001b[0m \u001b[1;33m=\u001b[0m \u001b[0mimg\u001b[0m\u001b[1;33m.\u001b[0m\u001b[0mcrop\u001b[0m\u001b[1;33m(\u001b[0m\u001b[1;33m(\u001b[0m\u001b[0mws\u001b[0m\u001b[1;33m,\u001b[0m \u001b[0mhs\u001b[0m\u001b[1;33m,\u001b[0m \u001b[0mwe\u001b[0m\u001b[1;33m,\u001b[0m \u001b[0mhe\u001b[0m\u001b[1;33m)\u001b[0m\u001b[1;33m)\u001b[0m\u001b[1;33m\u001b[0m\u001b[1;33m\u001b[0m\u001b[0m\n\u001b[0m\u001b[0;32m     29\u001b[0m \u001b[1;33m\u001b[0m\u001b[0m\n\u001b[0;32m     30\u001b[0m         \u001b[0mims\u001b[0m\u001b[1;33m.\u001b[0m\u001b[0mappend\u001b[0m\u001b[1;33m(\u001b[0m\u001b[0mcrp\u001b[0m\u001b[1;33m)\u001b[0m\u001b[1;33m\u001b[0m\u001b[1;33m\u001b[0m\u001b[0m\n",
      "\u001b[1;32mC:\\ProgramData\\Anaconda3\\lib\\site-packages\\PIL\\Image.py\u001b[0m in \u001b[0;36mcrop\u001b[1;34m(self, box)\u001b[0m\n\u001b[0;32m   1135\u001b[0m \u001b[1;33m\u001b[0m\u001b[0m\n\u001b[0;32m   1136\u001b[0m         \u001b[0mself\u001b[0m\u001b[1;33m.\u001b[0m\u001b[0mload\u001b[0m\u001b[1;33m(\u001b[0m\u001b[1;33m)\u001b[0m\u001b[1;33m\u001b[0m\u001b[1;33m\u001b[0m\u001b[0m\n\u001b[1;32m-> 1137\u001b[1;33m         \u001b[1;32mreturn\u001b[0m \u001b[0mself\u001b[0m\u001b[1;33m.\u001b[0m\u001b[0m_new\u001b[0m\u001b[1;33m(\u001b[0m\u001b[0mself\u001b[0m\u001b[1;33m.\u001b[0m\u001b[0m_crop\u001b[0m\u001b[1;33m(\u001b[0m\u001b[0mself\u001b[0m\u001b[1;33m.\u001b[0m\u001b[0mim\u001b[0m\u001b[1;33m,\u001b[0m \u001b[0mbox\u001b[0m\u001b[1;33m)\u001b[0m\u001b[1;33m)\u001b[0m\u001b[1;33m\u001b[0m\u001b[1;33m\u001b[0m\u001b[0m\n\u001b[0m\u001b[0;32m   1138\u001b[0m \u001b[1;33m\u001b[0m\u001b[0m\n\u001b[0;32m   1139\u001b[0m     \u001b[1;32mdef\u001b[0m \u001b[0m_crop\u001b[0m\u001b[1;33m(\u001b[0m\u001b[0mself\u001b[0m\u001b[1;33m,\u001b[0m \u001b[0mim\u001b[0m\u001b[1;33m,\u001b[0m \u001b[0mbox\u001b[0m\u001b[1;33m)\u001b[0m\u001b[1;33m:\u001b[0m\u001b[1;33m\u001b[0m\u001b[1;33m\u001b[0m\u001b[0m\n",
      "\u001b[1;32mC:\\ProgramData\\Anaconda3\\lib\\site-packages\\PIL\\Image.py\u001b[0m in \u001b[0;36m_crop\u001b[1;34m(self, im, box)\u001b[0m\n\u001b[0;32m   1155\u001b[0m         \u001b[0m_decompression_bomb_check\u001b[0m\u001b[1;33m(\u001b[0m\u001b[0mabsolute_values\u001b[0m\u001b[1;33m)\u001b[0m\u001b[1;33m\u001b[0m\u001b[1;33m\u001b[0m\u001b[0m\n\u001b[0;32m   1156\u001b[0m \u001b[1;33m\u001b[0m\u001b[0m\n\u001b[1;32m-> 1157\u001b[1;33m         \u001b[1;32mreturn\u001b[0m \u001b[0mim\u001b[0m\u001b[1;33m.\u001b[0m\u001b[0mcrop\u001b[0m\u001b[1;33m(\u001b[0m\u001b[1;33m(\u001b[0m\u001b[0mx0\u001b[0m\u001b[1;33m,\u001b[0m \u001b[0my0\u001b[0m\u001b[1;33m,\u001b[0m \u001b[0mx1\u001b[0m\u001b[1;33m,\u001b[0m \u001b[0my1\u001b[0m\u001b[1;33m)\u001b[0m\u001b[1;33m)\u001b[0m\u001b[1;33m\u001b[0m\u001b[1;33m\u001b[0m\u001b[0m\n\u001b[0m\u001b[0;32m   1158\u001b[0m \u001b[1;33m\u001b[0m\u001b[0m\n\u001b[0;32m   1159\u001b[0m     \u001b[1;32mdef\u001b[0m \u001b[0mdraft\u001b[0m\u001b[1;33m(\u001b[0m\u001b[0mself\u001b[0m\u001b[1;33m,\u001b[0m \u001b[0mmode\u001b[0m\u001b[1;33m,\u001b[0m \u001b[0msize\u001b[0m\u001b[1;33m)\u001b[0m\u001b[1;33m:\u001b[0m\u001b[1;33m\u001b[0m\u001b[1;33m\u001b[0m\u001b[0m\n",
      "\u001b[1;31mKeyboardInterrupt\u001b[0m: "
     ]
    }
   ],
   "source": [
    "pdf_dir = 'data/pdfs/'\n",
    "clean_dir = 'data/clean/'\n",
    "damaged_dir = 'data/damaged/'\n",
    "\n",
    "ncrops=5\n",
    "\n",
    "imno = 0\n",
    "for file in tqdm(os.listdir(pdf_dir)[:5]):\n",
    "    img = Image.open(pdf_dir+file).convert('RGB')\n",
    "    ims = random_crop(img, 224, ncrops)\n",
    "    \n",
    "    for i in range(ncrops):\n",
    "        print(imno)\n",
    "        img = ims[i]\n",
    "        print(img.convert(\"L\").getextrema())\n",
    "        img.save(clean_dir + f'{imno}.png', \"PNG\")\n",
    "\n",
    "        mods = random.choice(modifications)\n",
    "        damage = img.copy()\n",
    "        for mod in mods:\n",
    "            damage = mod(damage)\n",
    "        \n",
    "        damage.save(damaged_dir + f'{imno}_dmg.png', \"PNG\")\n",
    "        imno += 1\n",
    "        "
   ]
  }
 ],
 "metadata": {
  "kernelspec": {
   "display_name": "Python 3",
   "language": "python",
   "name": "python3"
  },
  "language_info": {
   "codemirror_mode": {
    "name": "ipython",
    "version": 3
   },
   "file_extension": ".py",
   "mimetype": "text/x-python",
   "name": "python",
   "nbconvert_exporter": "python",
   "pygments_lexer": "ipython3",
   "version": "3.8.3"
  }
 },
 "nbformat": 4,
 "nbformat_minor": 4
}
